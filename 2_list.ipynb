{
 "cells": [
  {
   "cell_type": "code",
   "execution_count": 31,
   "metadata": {
    "ExecuteTime": {
     "end_time": "2024-06-28T15:31:46.946543Z",
     "start_time": "2024-06-28T15:31:46.936570Z"
    }
   },
   "outputs": [
    {
     "name": "stdout",
     "output_type": "stream",
     "text": [
      "1\n",
      "2\n",
      "3\n",
      "4\n"
     ]
    }
   ],
   "source": [
    "# 1\n",
    "lst = [1,2,3,4]\n",
    "for i in lst:\n",
    "    print(i)"
   ]
  },
  {
   "cell_type": "code",
   "execution_count": 32,
   "metadata": {
    "ExecuteTime": {
     "end_time": "2024-06-28T15:31:47.149549Z",
     "start_time": "2024-06-28T15:31:47.134087Z"
    }
   },
   "outputs": [
    {
     "name": "stdout",
     "output_type": "stream",
     "text": [
      "20\n",
      "40\n",
      "60\n",
      "80\n"
     ]
    }
   ],
   "source": [
    "# 2\n",
    "for i in lst:\n",
    "    print(i * 20)"
   ]
  },
  {
   "cell_type": "code",
   "execution_count": 33,
   "metadata": {
    "ExecuteTime": {
     "end_time": "2024-06-28T15:31:47.331777Z",
     "start_time": "2024-06-28T15:31:47.316156Z"
    }
   },
   "outputs": [
    {
     "name": "stdout",
     "output_type": "stream",
     "text": [
      "['E', 'T', 'M']\n"
     ]
    }
   ],
   "source": [
    "# 3\n",
    "lst = [\"Elie\", \"Tim\", \"Matt\"]\n",
    "result = [i[0] for i in lst]\n",
    "print(result)"
   ]
  },
  {
   "cell_type": "code",
   "execution_count": 34,
   "metadata": {
    "ExecuteTime": {
     "end_time": "2024-06-28T15:31:47.515267Z",
     "start_time": "2024-06-28T15:31:47.499540Z"
    }
   },
   "outputs": [
    {
     "name": "stdout",
     "output_type": "stream",
     "text": [
      "[2, 4, 6]\n"
     ]
    }
   ],
   "source": [
    "# 4\n",
    "lst = [1,2,3,4,5,6]\n",
    "new_lst = [i for i in lst if i % 2 == 0]\n",
    "print(new_lst)"
   ]
  },
  {
   "cell_type": "code",
   "execution_count": 35,
   "metadata": {
    "ExecuteTime": {
     "end_time": "2024-06-28T15:31:47.682378Z",
     "start_time": "2024-06-28T15:31:47.667356Z"
    }
   },
   "outputs": [
    {
     "name": "stdout",
     "output_type": "stream",
     "text": [
      "[3, 4]\n"
     ]
    }
   ],
   "source": [
    "# 5\n",
    "l1 = [1,2,3,4]\n",
    "l2 = [3,4,5,6]\n",
    "\n",
    "result = [i for i in l1 if i in l2]\n",
    "print(result)"
   ]
  },
  {
   "cell_type": "code",
   "execution_count": 36,
   "metadata": {
    "ExecuteTime": {
     "end_time": "2024-06-28T15:31:47.864924Z",
     "start_time": "2024-06-28T15:31:47.848289Z"
    }
   },
   "outputs": [
    {
     "name": "stdout",
     "output_type": "stream",
     "text": [
      "['eile', 'mit', 'ttam']\n"
     ]
    }
   ],
   "source": [
    "# 6\n",
    "lst = [\"Elie\", \"Tim\", \"Matt\"]\n",
    "result = [i.lower()[::-1] for i in lst]\n",
    "print(result)"
   ]
  },
  {
   "cell_type": "code",
   "execution_count": 37,
   "metadata": {
    "ExecuteTime": {
     "end_time": "2024-06-28T15:31:48.032039Z",
     "start_time": "2024-06-28T15:31:48.016545Z"
    }
   },
   "outputs": [
    {
     "name": "stdout",
     "output_type": "stream",
     "text": [
      "['i', 'r', 't']\n"
     ]
    }
   ],
   "source": [
    "# 7 \n",
    "s1 = 'first'\n",
    "s2 = 'third'\n",
    "\n",
    "intersec = [i for i in s1 if i in s2]\n",
    "print(intersec)"
   ]
  },
  {
   "cell_type": "code",
   "execution_count": 38,
   "metadata": {
    "ExecuteTime": {
     "end_time": "2024-06-28T15:31:48.230798Z",
     "start_time": "2024-06-28T15:31:48.214903Z"
    }
   },
   "outputs": [
    {
     "name": "stdout",
     "output_type": "stream",
     "text": [
      "[12, 24, 36, 48, 60, 72, 84, 96]\n"
     ]
    }
   ],
   "source": [
    "# 8 \n",
    "new_list = [num for num in range(1, 101) if num % 12 == 0]\n",
    "\n",
    "print(new_list)"
   ]
  },
  {
   "cell_type": "code",
   "execution_count": 2,
   "metadata": {
    "ExecuteTime": {
     "end_time": "2024-06-28T15:52:06.579193Z",
     "start_time": "2024-06-28T15:52:06.573997Z"
    }
   },
   "outputs": [
    {
     "name": "stdout",
     "output_type": "stream",
     "text": [
      "['m', 'z', 'n', 'g']\n"
     ]
    }
   ],
   "source": [
    "# 9\n",
    "s = \"amazing\"\n",
    "vowels = ['a', 'e', 'i', 'o', 'u']\n",
    "result = [char for char in s if char not in vowels]\n",
    "print(result)"
   ]
  },
  {
   "cell_type": "code",
   "execution_count": 43,
   "metadata": {
    "ExecuteTime": {
     "end_time": "2024-06-28T15:33:19.707786Z",
     "start_time": "2024-06-28T15:33:19.704497Z"
    }
   },
   "outputs": [
    {
     "name": "stdout",
     "output_type": "stream",
     "text": [
      "[[0, 1, 2], [0, 1, 2], [0, 1, 2]]\n"
     ]
    }
   ],
   "source": [
    "# 10\n",
    "result = 3 * [list(range(3))]\n",
    "print(result)"
   ]
  },
  {
   "cell_type": "code",
   "execution_count": 44,
   "metadata": {
    "ExecuteTime": {
     "end_time": "2024-06-28T15:35:48.511085Z",
     "start_time": "2024-06-28T15:35:48.504762Z"
    }
   },
   "outputs": [
    {
     "name": "stdout",
     "output_type": "stream",
     "text": [
      "[[0, 1, 2, 3, 4, 5, 6, 7, 8], [0, 1, 2, 3, 4, 5, 6, 7, 8], [0, 1, 2, 3, 4, 5, 6, 7, 8], [0, 1, 2, 3, 4, 5, 6, 7, 8], [0, 1, 2, 3, 4, 5, 6, 7, 8], [0, 1, 2, 3, 4, 5, 6, 7, 8], [0, 1, 2, 3, 4, 5, 6, 7, 8], [0, 1, 2, 3, 4, 5, 6, 7, 8], [0, 1, 2, 3, 4, 5, 6, 7, 8], [0, 1, 2, 3, 4, 5, 6, 7, 8]]\n"
     ]
    }
   ],
   "source": [
    "# 11\n",
    "result = 10 * [list(range(9))]\n",
    "print(result)"
   ]
  },
  {
   "cell_type": "code",
   "execution_count": null,
   "metadata": {},
   "outputs": [],
   "source": []
  }
 ],
 "metadata": {
  "kernelspec": {
   "display_name": "Python 3",
   "language": "python",
   "name": "python3"
  },
  "language_info": {
   "codemirror_mode": {
    "name": "ipython",
    "version": 3
   },
   "file_extension": ".py",
   "mimetype": "text/x-python",
   "name": "python",
   "nbconvert_exporter": "python",
   "pygments_lexer": "ipython3",
   "version": "3.8.5"
  },
  "varInspector": {
   "cols": {
    "lenName": 16,
    "lenType": 16,
    "lenVar": 40
   },
   "kernels_config": {
    "python": {
     "delete_cmd_postfix": "",
     "delete_cmd_prefix": "del ",
     "library": "var_list.py",
     "varRefreshCmd": "print(var_dic_list())"
    },
    "r": {
     "delete_cmd_postfix": ") ",
     "delete_cmd_prefix": "rm(",
     "library": "var_list.r",
     "varRefreshCmd": "cat(var_dic_list()) "
    }
   },
   "types_to_exclude": [
    "module",
    "function",
    "builtin_function_or_method",
    "instance",
    "_Feature"
   ],
   "window_display": false
  }
 },
 "nbformat": 4,
 "nbformat_minor": 4
}
