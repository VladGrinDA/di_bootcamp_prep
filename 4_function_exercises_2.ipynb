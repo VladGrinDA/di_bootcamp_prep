{
 "cells": [
  {
   "cell_type": "code",
   "id": "initial_id",
   "metadata": {
    "collapsed": true,
    "ExecuteTime": {
     "end_time": "2024-07-06T20:51:50.350382Z",
     "start_time": "2024-07-06T20:51:50.328626Z"
    }
   },
   "source": [
    "# 1\n",
    "def reverse_string(string):\n",
    "    return string[::-1]\n",
    "\n",
    "reverse_string('word')"
   ],
   "outputs": [
    {
     "data": {
      "text/plain": [
       "'drow'"
      ]
     },
     "execution_count": 2,
     "metadata": {},
     "output_type": "execute_result"
    }
   ],
   "execution_count": 2
  },
  {
   "metadata": {
    "ExecuteTime": {
     "end_time": "2024-07-06T21:01:26.253170Z",
     "start_time": "2024-07-06T21:01:25.672433Z"
    }
   },
   "cell_type": "code",
   "source": [
    "# 2\n",
    "import math\n",
    "\n",
    "def new_avg(arr, navg):\n",
    "    target_don = math.ceil((len(arr) + 1) * navg - sum(arr))\n",
    "    if target_don > 0:\n",
    "        return target_don\n",
    "    else:\n",
    "        raise ValueError\n",
    "\n",
    "dons = [14, 30, 5, 7, 9, 11, 15, 10]\n",
    "new_avg(dons, 10)"
   ],
   "id": "a8d61c6b4de1e601",
   "outputs": [
    {
     "ename": "ValueError",
     "evalue": "",
     "output_type": "error",
     "traceback": [
      "\u001B[1;31m---------------------------------------------------------------------------\u001B[0m",
      "\u001B[1;31mValueError\u001B[0m                                Traceback (most recent call last)",
      "Cell \u001B[1;32mIn[9], line 12\u001B[0m\n\u001B[0;32m      9\u001B[0m         \u001B[38;5;28;01mraise\u001B[39;00m \u001B[38;5;167;01mValueError\u001B[39;00m\n\u001B[0;32m     11\u001B[0m dons \u001B[38;5;241m=\u001B[39m [\u001B[38;5;241m14\u001B[39m, \u001B[38;5;241m30\u001B[39m, \u001B[38;5;241m5\u001B[39m, \u001B[38;5;241m7\u001B[39m, \u001B[38;5;241m9\u001B[39m, \u001B[38;5;241m11\u001B[39m, \u001B[38;5;241m15\u001B[39m, \u001B[38;5;241m10\u001B[39m]\n\u001B[1;32m---> 12\u001B[0m \u001B[43mnew_avg\u001B[49m\u001B[43m(\u001B[49m\u001B[43mdons\u001B[49m\u001B[43m,\u001B[49m\u001B[43m \u001B[49m\u001B[38;5;241;43m10\u001B[39;49m\u001B[43m)\u001B[49m\n",
      "Cell \u001B[1;32mIn[9], line 9\u001B[0m, in \u001B[0;36mnew_avg\u001B[1;34m(arr, navg)\u001B[0m\n\u001B[0;32m      7\u001B[0m     \u001B[38;5;28;01mreturn\u001B[39;00m target_don\n\u001B[0;32m      8\u001B[0m \u001B[38;5;28;01melse\u001B[39;00m:\n\u001B[1;32m----> 9\u001B[0m     \u001B[38;5;28;01mraise\u001B[39;00m \u001B[38;5;167;01mValueError\u001B[39;00m\n",
      "\u001B[1;31mValueError\u001B[0m: "
     ]
    }
   ],
   "execution_count": 9
  },
  {
   "metadata": {
    "ExecuteTime": {
     "end_time": "2024-07-06T21:10:20.955085Z",
     "start_time": "2024-07-06T21:10:20.936204Z"
    }
   },
   "cell_type": "code",
   "source": [
    "# 3\n",
    "def sequence_sum(begin_number, end_number, step):\n",
    "    return sum(range(begin_number, end_number + 1, step))\n",
    "\n",
    "print(sequence_sum(2, 6, 2)) # 12\n",
    "print(sequence_sum(16, 15, 3)) # 0"
   ],
   "id": "a3198c437afe91c8",
   "outputs": [
    {
     "name": "stdout",
     "output_type": "stream",
     "text": [
      "12\n",
      "0\n"
     ]
    }
   ],
   "execution_count": 10
  },
  {
   "metadata": {
    "ExecuteTime": {
     "end_time": "2024-07-07T17:43:33.189230Z",
     "start_time": "2024-07-07T17:43:33.165718Z"
    }
   },
   "cell_type": "code",
   "source": [
    "# 4\n",
    "def max_diff(lst):\n",
    "    if len(lst) < 2:\n",
    "        return 0\n",
    "    else:\n",
    "        return max(lst) - min(lst)\n",
    "        \n",
    "max_diff([0, 1, 2, 3, 4, 5, 6]) # 6"
   ],
   "id": "c0eb905df77cbb51",
   "outputs": [
    {
     "data": {
      "text/plain": [
       "6"
      ]
     },
     "execution_count": 2,
     "metadata": {},
     "output_type": "execute_result"
    }
   ],
   "execution_count": 2
  },
  {
   "metadata": {
    "ExecuteTime": {
     "end_time": "2024-07-07T17:44:27.129494Z",
     "start_time": "2024-07-07T17:44:27.116185Z"
    }
   },
   "cell_type": "code",
   "source": [
    "# 5\n",
    "def count_smileys(arr):\n",
    "    valid_eyes = {':', ';'}\n",
    "    valid_noses = {'-', '~'}\n",
    "    valid_mouths = {')', 'D'}\n",
    "    \n",
    "    counter = 0\n",
    "    for face in arr:\n",
    "        if face[0] not in valid_eyes or face[-1] not in valid_mouths:\n",
    "            continue \n",
    "        if len(face) == 3 and face[1] not in valid_noses:\n",
    "            continue\n",
    "        counter += 1\n",
    "    return counter\n",
    "\n",
    "count_smileys([':o(', ';-D', ';(', ';D', ':D', ';-D', ';o(', ';D', ':-(', ':o(', ';oD', ';D']) # 6"
   ],
   "id": "f23af8035c7e2472",
   "outputs": [
    {
     "data": {
      "text/plain": [
       "6"
      ]
     },
     "execution_count": 4,
     "metadata": {},
     "output_type": "execute_result"
    }
   ],
   "execution_count": 4
  },
  {
   "metadata": {
    "ExecuteTime": {
     "end_time": "2024-07-07T17:56:09.872749Z",
     "start_time": "2024-07-07T17:56:09.863093Z"
    }
   },
   "cell_type": "code",
   "source": [
    "# 6\n",
    "def sentence_count(paragraph):\n",
    "    sentance_sep = ('.', '?', '!')\n",
    "    \n",
    "    counter = 0\n",
    "    for char in paragraph:\n",
    "        if char in sentance_sep:\n",
    "            counter += 1\n",
    "    \n",
    "    return counter\n",
    "\n",
    "print(sentence_count(\"Hello. Hey? It's good to see you!\")) # 3\n",
    "print(sentence_count(\"Hi!\")) # 1\n",
    "print(sentence_count(\"\")) # 0"
   ],
   "id": "710ae4218ad264c2",
   "outputs": [
    {
     "name": "stdout",
     "output_type": "stream",
     "text": [
      "3\n",
      "1\n",
      "0\n"
     ]
    }
   ],
   "execution_count": 5
  },
  {
   "metadata": {
    "ExecuteTime": {
     "end_time": "2024-07-07T18:33:22.265732Z",
     "start_time": "2024-07-07T18:33:22.243945Z"
    }
   },
   "cell_type": "code",
   "source": [
    "# 7\n",
    "def race(v1, v2, g):\n",
    "    if v1 >= v2:\n",
    "        return None \n",
    "    catch_time = g / (v2 - v1)\n",
    "    return [int(catch_time), int(catch_time * 60) % 60, int(catch_time * 3600) % 60]\n",
    "\n",
    "print(race(720, 850, 70)) # [0, 32, 18]\n",
    "print(race(80, 91, 37)) # [3, 21, 49]\n",
    "print(race(820, 81, 550)) # None"
   ],
   "id": "1b12700205822db6",
   "outputs": [
    {
     "name": "stdout",
     "output_type": "stream",
     "text": [
      "[0, 32, 18]\n",
      "[3, 21, 49]\n",
      "None\n"
     ]
    }
   ],
   "execution_count": 9
  },
  {
   "metadata": {
    "ExecuteTime": {
     "end_time": "2024-07-07T20:19:12.246832Z",
     "start_time": "2024-07-07T20:19:12.225852Z"
    }
   },
   "cell_type": "code",
   "source": [
    "# 8\n",
    "def shifted_diff(first, second):\n",
    "    l = len(first)\n",
    "    for i in range(l):\n",
    "        if (first[l - i:] + first[:l - i]) == second:\n",
    "            return i\n",
    "        \n",
    "    return -1\n",
    "\n",
    "print(shifted_diff(\"eecoff\",\"coffee\")) # 4\n",
    "print(shifted_diff(\"Moose\",\"moose\")) # -1\n",
    "print(shifted_diff(\"isn't\",\"'tisn\")) # 2\n",
    "print(shifted_diff(\"Esham\",\"Esham\")) # 0"
   ],
   "id": "ecd476b0a8d472fc",
   "outputs": [
    {
     "name": "stdout",
     "output_type": "stream",
     "text": [
      "4\n",
      "-1\n",
      "2\n",
      "0\n"
     ]
    }
   ],
   "execution_count": 10
  }
 ],
 "metadata": {
  "kernelspec": {
   "display_name": "Python 3",
   "language": "python",
   "name": "python3"
  },
  "language_info": {
   "codemirror_mode": {
    "name": "ipython",
    "version": 2
   },
   "file_extension": ".py",
   "mimetype": "text/x-python",
   "name": "python",
   "nbconvert_exporter": "python",
   "pygments_lexer": "ipython2",
   "version": "2.7.6"
  }
 },
 "nbformat": 4,
 "nbformat_minor": 5
}
