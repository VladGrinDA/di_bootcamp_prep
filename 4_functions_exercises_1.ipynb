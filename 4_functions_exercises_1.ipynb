{
 "cells": [
  {
   "cell_type": "code",
   "execution_count": 2,
   "metadata": {
    "ExecuteTime": {
     "end_time": "2024-06-28T16:24:20.143414Z",
     "start_time": "2024-06-28T16:24:20.137096Z"
    }
   },
   "outputs": [
    {
     "name": "stdout",
     "output_type": "stream",
     "text": [
      "0\n",
      "-2\n"
     ]
    }
   ],
   "source": [
    "# 1\n",
    "def difference(a, b):\n",
    "    return a - b\n",
    "\n",
    "print(difference(2,2)) # 0\n",
    "print(difference(0,2)) # -2"
   ]
  },
  {
   "cell_type": "code",
   "execution_count": 4,
   "metadata": {
    "ExecuteTime": {
     "end_time": "2024-06-28T16:28:11.649229Z",
     "start_time": "2024-06-28T16:28:11.641273Z"
    }
   },
   "outputs": [
    {
     "name": "stdout",
     "output_type": "stream",
     "text": [
      "Wednesday\n",
      "None\n"
     ]
    }
   ],
   "source": [
    "# 2\n",
    "def print_day(day_num):\n",
    "    weekdays = {\n",
    "        1: 'Sunday',\n",
    "        2: 'Monday',\n",
    "        3: 'Tuesday',\n",
    "        4: 'Wednesday',\n",
    "        5: 'Thursday',\n",
    "        6: 'Friday',\n",
    "        7: 'Saturday'\n",
    "    }\n",
    "    return weekdays.get(day_num)\n",
    "\n",
    "print(print_day(4)) # \"Wednesday\"\n",
    "print(print_day(41)) # None"
   ]
  },
  {
   "cell_type": "code",
   "execution_count": 8,
   "metadata": {
    "ExecuteTime": {
     "end_time": "2024-06-28T16:29:41.887555Z",
     "start_time": "2024-06-28T16:29:41.881082Z"
    }
   },
   "outputs": [
    {
     "name": "stdout",
     "output_type": "stream",
     "text": [
      "4\n",
      "None\n"
     ]
    }
   ],
   "source": [
    "# 3\n",
    "def last_element(lst):\n",
    "    if len(lst) == 0:\n",
    "        return None\n",
    "    return lst[-1]\n",
    "\n",
    "print(last_element([1,2,3,4])) # 4\n",
    "print(last_element([])) # None"
   ]
  },
  {
   "cell_type": "code",
   "execution_count": 9,
   "metadata": {
    "ExecuteTime": {
     "end_time": "2024-06-28T16:32:01.882882Z",
     "start_time": "2024-06-28T16:32:01.864933Z"
    }
   },
   "outputs": [
    {
     "name": "stdout",
     "output_type": "stream",
     "text": [
      "Numbers are equal\n",
      "Second is greater\n",
      "First is greater\n"
     ]
    }
   ],
   "source": [
    "# 4\n",
    "def number_compare(a, b):\n",
    "    if a > b:\n",
    "        return 'First is greater'\n",
    "    if a < b:\n",
    "        return 'Second is greater'\n",
    "    return 'Numbers are equal'\n",
    "\n",
    "print(number_compare(1,1)) # \"Numbers are equal\"\n",
    "print(number_compare(1,2)) # \"Second is greater\"\n",
    "print(number_compare(2,1)) # \"First is greater\""
   ]
  },
  {
   "cell_type": "code",
   "execution_count": 11,
   "metadata": {
    "ExecuteTime": {
     "end_time": "2024-06-28T16:34:53.480597Z",
     "start_time": "2024-06-28T16:34:53.465252Z"
    }
   },
   "outputs": [
    {
     "name": "stdout",
     "output_type": "stream",
     "text": [
      "2\n"
     ]
    }
   ],
   "source": [
    "# 5\n",
    "def single_letter_count(word, letter):\n",
    "    return len([tgt_letter for tgt_letter in word if tgt_letter.lower() == letter.lower()])\n",
    "\n",
    "print(single_letter_count('amazing','A')) # 2"
   ]
  },
  {
   "cell_type": "code",
   "metadata": {
    "ExecuteTime": {
     "end_time": "2024-07-05T20:00:27.782245Z",
     "start_time": "2024-07-05T20:00:27.767271Z"
    }
   },
   "source": [
    "# 6\n",
    "def multiple_letter_count(word):\n",
    "    result = {}\n",
    "    for letter in word:\n",
    "        if letter in result:\n",
    "            result[letter] += 1\n",
    "        else:\n",
    "            result[letter] = 1\n",
    "    return result\n",
    "\n",
    "print(multiple_letter_count(\"hello\")) # {h:1, e: 1, l: 2, o:1}\n",
    "print(multiple_letter_count(\"person\")) # {p:1, e: 1, r: 1, s:1, o:1, n:1}"
   ],
   "outputs": [
    {
     "name": "stdout",
     "output_type": "stream",
     "text": [
      "{'h': 1, 'e': 1, 'l': 2, 'o': 1}\n",
      "{'p': 1, 'e': 1, 'r': 1, 's': 1, 'o': 1, 'n': 1}\n"
     ]
    }
   ],
   "execution_count": 1
  },
  {
   "metadata": {
    "ExecuteTime": {
     "end_time": "2024-07-05T20:04:06.817820Z",
     "start_time": "2024-07-05T20:04:06.810972Z"
    }
   },
   "cell_type": "code",
   "source": [
    "# 7\n",
    "def list_manipulation(lst, command, location, value=None):\n",
    "    if command == \"remove\":\n",
    "        if location == \"end\":\n",
    "            return lst.pop()\n",
    "        elif location == \"beginning\":\n",
    "            return lst.pop(0)\n",
    "    elif command == \"add\":\n",
    "        if location == \"beginning\":\n",
    "            lst.insert(0, value)\n",
    "            return lst\n",
    "        elif location == \"end\":\n",
    "            lst.append(value)\n",
    "            return lst\n",
    "\n",
    "print(list_manipulation([1,2,3], \"remove\", \"end\")) # 3\n",
    "print(list_manipulation([1,2,3], \"remove\", \"beginning\")) # 1\n",
    "print(list_manipulation([1,2,3], \"add\", \"beginning\", 20)) # [20,1,2,3]\n",
    "print(list_manipulation([1,2,3], \"add\", \"end\", 30)) # [1,2,3,30]"
   ],
   "outputs": [
    {
     "name": "stdout",
     "output_type": "stream",
     "text": [
      "3\n",
      "1\n",
      "[20, 1, 2, 3]\n",
      "[1, 2, 3, 30]\n"
     ]
    }
   ],
   "execution_count": 3
  },
  {
   "metadata": {
    "ExecuteTime": {
     "end_time": "2024-07-05T20:27:05.209240Z",
     "start_time": "2024-07-05T20:27:05.197274Z"
    }
   },
   "cell_type": "code",
   "source": [
    "# 8\n",
    "def is_palindrome(word):\n",
    "    word = word.lower().replace(' ', '')\n",
    "    wc = len(word) // 2 \n",
    "    rem = len(word) % 2\n",
    "    print(word.lower()[:wc + rem], word.lower()[:wc - 1:-1])\n",
    "    return word.lower()[:wc + rem] == word.lower()[:wc - 1:-1]\n",
    "\n",
    "print(is_palindrome('testing')) # False\n",
    "print(is_palindrome('tacocat')) # True\n",
    "print(is_palindrome('hannah')) # True\n",
    "print(is_palindrome('robert')) # False\n",
    "is_palindrome('a man a plan a canal Panama') # True"
   ],
   "outputs": [
    {
     "name": "stdout",
     "output_type": "stream",
     "text": [
      "test gnit\n",
      "False\n",
      "taco taco\n",
      "True\n",
      "han han\n",
      "True\n",
      "rob tre\n",
      "False\n",
      "amanaplanac amanaplanac\n"
     ]
    },
    {
     "data": {
      "text/plain": [
       "True"
      ]
     },
     "execution_count": 24,
     "metadata": {},
     "output_type": "execute_result"
    }
   ],
   "execution_count": 24
  },
  {
   "metadata": {
    "ExecuteTime": {
     "end_time": "2024-07-05T20:29:41.009026Z",
     "start_time": "2024-07-05T20:29:41.002922Z"
    }
   },
   "cell_type": "code",
   "source": [
    "# 9\n",
    "def frequency(lst, search_term):\n",
    "    return lst.count(search_term)\n",
    "\n",
    "print(frequency([1,2,3,4,4,4], 4)) # 3\n",
    "print(frequency([True, False, True, True], False)) # 1"
   ],
   "outputs": [
    {
     "name": "stdout",
     "output_type": "stream",
     "text": [
      "3\n",
      "1\n"
     ]
    }
   ],
   "execution_count": 25
  },
  {
   "metadata": {
    "ExecuteTime": {
     "end_time": "2024-07-05T20:37:16.041216Z",
     "start_time": "2024-07-05T20:37:16.034202Z"
    }
   },
   "cell_type": "code",
   "source": [
    "# 10\n",
    "def flip_case(inp_string, letter):\n",
    "    return ''.join([char.swapcase() if letter.lower() == char.lower() else char for char in inp_string])\n",
    "\n",
    "print(flip_case(\"Hardy har har\", \"h\")) # \"hardy Har Har\""
   ],
   "outputs": [
    {
     "name": "stdout",
     "output_type": "stream",
     "text": [
      "hardy Har Har\n"
     ]
    }
   ],
   "execution_count": 30
  },
  {
   "metadata": {
    "ExecuteTime": {
     "end_time": "2024-07-05T20:47:36.723909Z",
     "start_time": "2024-07-05T20:47:36.712165Z"
    }
   },
   "cell_type": "code",
   "source": [
    "# 11\n",
    "def multiply_even_numbers(lst):\n",
    "    result = 1\n",
    "    for num in lst:\n",
    "        if num % 2 == 0:\n",
    "            result *= num\n",
    "    return result\n",
    "\n",
    "multiply_even_numbers([2,3,4,5,6]) # 48"
   ],
   "outputs": [
    {
     "data": {
      "text/plain": [
       "48"
      ]
     },
     "execution_count": 34,
     "metadata": {},
     "output_type": "execute_result"
    }
   ],
   "execution_count": 34
  },
  {
   "metadata": {
    "ExecuteTime": {
     "end_time": "2024-07-05T20:54:07.004618Z",
     "start_time": "2024-07-05T20:54:06.989307Z"
    }
   },
   "cell_type": "code",
   "source": [
    "# 12\n",
    "def mode(lst):\n",
    "    frequency_dict = {}\n",
    "    for num in lst:\n",
    "        if num in frequency_dict:\n",
    "            frequency_dict[num] += 1\n",
    "        else:\n",
    "            frequency_dict[num] = 1\n",
    "    max_frequency = max(frequency_dict.values())\n",
    "    for num, freq in frequency_dict.items():\n",
    "        if freq == max_frequency:\n",
    "            return num\n",
    "\n",
    "mode([2,4,1,2,3,3,4,4,5,4,4,6,4,6,7,4]) # 4"
   ],
   "outputs": [
    {
     "data": {
      "text/plain": [
       "4"
      ]
     },
     "execution_count": 35,
     "metadata": {},
     "output_type": "execute_result"
    }
   ],
   "execution_count": 35
  },
  {
   "metadata": {
    "ExecuteTime": {
     "end_time": "2024-07-05T20:57:30.240092Z",
     "start_time": "2024-07-05T20:57:30.228645Z"
    }
   },
   "cell_type": "code",
   "source": [
    "# 13\n",
    "def capitalize(word):\n",
    "    return word.capitalize()\n",
    "\n",
    "print(capitalize(\"tim\")) # \"Tim\"\n",
    "print(capitalize(\"matt\")) # \"Matt\""
   ],
   "outputs": [
    {
     "name": "stdout",
     "output_type": "stream",
     "text": [
      "Tim\n",
      "Matt\n"
     ]
    }
   ],
   "execution_count": 37
  },
  {
   "metadata": {
    "ExecuteTime": {
     "end_time": "2024-07-05T20:58:39.483671Z",
     "start_time": "2024-07-05T20:58:39.472014Z"
    }
   },
   "cell_type": "code",
   "source": [
    "# 14\n",
    "def compact(lst):\n",
    "    return [item for item in lst if item]\n",
    "\n",
    "compact([0,1,2,\"\",[], False, {}, None, \"All done\"]) # [1,2, \"All done\"]"
   ],
   "outputs": [
    {
     "data": {
      "text/plain": [
       "[1, 2, 'All done']"
      ]
     },
     "execution_count": 39,
     "metadata": {},
     "output_type": "execute_result"
    }
   ],
   "execution_count": 39
  },
  {
   "metadata": {
    "ExecuteTime": {
     "end_time": "2024-07-06T08:43:36.104428Z",
     "start_time": "2024-07-06T08:43:36.061607Z"
    }
   },
   "cell_type": "code",
   "source": [
    "# 15\n",
    "def is_even(num):\n",
    "    return num % 2 == 0\n",
    "\n",
    "def partition(lst, callback):\n",
    "    lst1, lst2 = [], []\n",
    "    for item in lst:\n",
    "        if callback(item):\n",
    "            lst1.append(item)\n",
    "        else:\n",
    "            lst2.append(item)\n",
    "    return [lst1, lst2]\n",
    "\n",
    "partition([1,2,3,4], is_even) # [[2,4],[1,3]]"
   ],
   "outputs": [
    {
     "data": {
      "text/plain": [
       "[[2, 4], [1, 3]]"
      ]
     },
     "execution_count": 2,
     "metadata": {},
     "output_type": "execute_result"
    }
   ],
   "execution_count": 2
  },
  {
   "metadata": {
    "ExecuteTime": {
     "end_time": "2024-07-06T08:45:32.228652Z",
     "start_time": "2024-07-06T08:45:32.214490Z"
    }
   },
   "cell_type": "code",
   "source": [
    "# 16\n",
    "def intersection(lst1, lst2):\n",
    "    return list(set(lst1).intersection(set(lst2)))\n",
    "\n",
    "intersection([1,2,3], [2,3,4]) # [2,3]"
   ],
   "outputs": [
    {
     "data": {
      "text/plain": [
       "[2, 3]"
      ]
     },
     "execution_count": 4,
     "metadata": {},
     "output_type": "execute_result"
    }
   ],
   "execution_count": 4
  },
  {
   "metadata": {
    "ExecuteTime": {
     "end_time": "2024-07-06T20:26:16.610541Z",
     "start_time": "2024-07-06T20:26:16.603020Z"
    }
   },
   "cell_type": "code",
   "source": [
    "# 17\n",
    "def add(a, b):\n",
    "    return a + b\n",
    "\n",
    "def once(func):\n",
    "    \n",
    "    def times_called(*args):\n",
    "        # print(times_called.cnt)\n",
    "        times_called.cnt += 1\n",
    "        return func(*args) if times_called.cnt < 2 else None\n",
    "\n",
    "    times_called.cnt = 0\n",
    "    return times_called\n",
    "\n",
    "one_addition = once(add)\n",
    "\n",
    "print(one_addition(2,2)) # 4\n",
    "print(one_addition(2,2)) # undefined\n",
    "print(one_addition(12,200)) # undefined"
   ],
   "outputs": [
    {
     "name": "stdout",
     "output_type": "stream",
     "text": [
      "4\n",
      "None\n",
      "None\n"
     ]
    }
   ],
   "execution_count": 2
  },
  {
   "metadata": {
    "ExecuteTime": {
     "end_time": "2024-07-06T20:27:49.694908Z",
     "start_time": "2024-07-06T20:27:49.680702Z"
    }
   },
   "cell_type": "code",
   "source": [
    "# 18\n",
    "def run_once(func):\n",
    "    \n",
    "    def times_called(*args, **kwargs):\n",
    "        # print(times_called.cnt)\n",
    "        times_called.cnt += 1\n",
    "        return func(*args, **kwargs) if times_called.cnt < 2 else None\n",
    "\n",
    "    times_called.cnt = 0\n",
    "    return times_called\n",
    "\n",
    "@run_once\n",
    "def one_addition_dec(a, b):\n",
    "    return a + b\n",
    "\n",
    "\n",
    "print(one_addition_dec(2,2)) # 4\n",
    "print(one_addition_dec(2,2)) # undefined\n",
    "print(one_addition_dec(12,200)) # undefined"
   ],
   "outputs": [
    {
     "name": "stdout",
     "output_type": "stream",
     "text": [
      "4\n",
      "None\n",
      "None\n"
     ]
    }
   ],
   "execution_count": 7
  },
  {
   "metadata": {},
   "cell_type": "code",
   "outputs": [],
   "execution_count": null,
   "source": ""
  }
 ],
 "metadata": {
  "kernelspec": {
   "display_name": "Python 3",
   "language": "python",
   "name": "python3"
  },
  "language_info": {
   "codemirror_mode": {
    "name": "ipython",
    "version": 3
   },
   "file_extension": ".py",
   "mimetype": "text/x-python",
   "name": "python",
   "nbconvert_exporter": "python",
   "pygments_lexer": "ipython3",
   "version": "3.8.5"
  },
  "varInspector": {
   "cols": {
    "lenName": 16,
    "lenType": 16,
    "lenVar": 40
   },
   "kernels_config": {
    "python": {
     "delete_cmd_postfix": "",
     "delete_cmd_prefix": "del ",
     "library": "var_list.py",
     "varRefreshCmd": "print(var_dic_list())"
    },
    "r": {
     "delete_cmd_postfix": ") ",
     "delete_cmd_prefix": "rm(",
     "library": "var_list.r",
     "varRefreshCmd": "cat(var_dic_list()) "
    }
   },
   "types_to_exclude": [
    "module",
    "function",
    "builtin_function_or_method",
    "instance",
    "_Feature"
   ],
   "window_display": false
  }
 },
 "nbformat": 4,
 "nbformat_minor": 4
}
